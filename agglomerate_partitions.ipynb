{
 "cells": [
  {
   "cell_type": "code",
   "execution_count": 76,
   "metadata": {},
   "outputs": [],
   "source": [
    "import networkx as nx\n",
    "import random as r\n",
    "import operator\n",
    "\n",
    "\n",
    "def weight_calc(num_edges):           ##calculates weight edges based on number of edges contracted together\n",
    "    return .9 ** num_edges ** 3       ##will cause rounding errors if numbers get too small (will who up as node not present error)\n",
    "\n",
    "\n",
    "#input graph G and number of desired districts k\n",
    "#outputs a k partition of G respresented as a list of lists\n",
    "def agglom(G,k):    \n",
    "    for n in (G.nodes()):  #initializes node attributes which track contractions\n",
    "        G.node[n]['seg'] = [n]\n",
    "    edges = {}\n",
    "    for ed in (list(set(G.edges()) | set(nx.non_edges(G)))):  #initializes edge attributes which track \n",
    "        edges[ed] = 1                                         #edge contractions, which informs edge weighting\n",
    "    while len(G.nodes) > k and len(G.edges) > 0 :\n",
    "        weight_total = 0\n",
    "        for edge in edges:          #calculates sum of edge weights (weights are calculated dynamically based on \n",
    "            if edges[edge] != 0:\n",
    "                weight_total += weight_calc(edges[edge])  #number of edges contracted together)\n",
    "        weight_total = r.uniform(0,weight_total)\n",
    "        for edge in edges:\n",
    "            if edges[edge] != 0 : weight_total -= weight_calc(edges[edge])      #random 'index' is chosen corresponding edge is found\n",
    "            if weight_total <= 0:                                             #by subtracting edge weights until total reaches 0\n",
    "                e = edge\n",
    "                break\n",
    "        inter = list(set(G.neighbors(e[0])) & set(G.neighbors(e[1])))       #looks for shared neighobors to measure edge contraction\n",
    "        for shared in inter:\n",
    "            if shared > e[1] : edges[(e[0],shared)] += edges[(e[1],shared)]  #recording edge contraction\n",
    "            elif shared < e[0]: edges[(shared,e[0])] += edges[(shared,e[1])]\n",
    "            else : edges[(e[0],shared)] += edges[(shared,e[1])]\n",
    "        for n in G.neighbors(e[1]):\n",
    "            if n < e[1] : edges[(n,e[1])] = 0\n",
    "            else : edges[(e[1],n)] = 0    \n",
    "        G.node[e[0]]['seg'] += (G.node[e[1]]['seg'])      #recording node contraction\n",
    "        G = nx.contracted_edge(G, e, self_loops = False)  #contraction occurs\n",
    "    result = nx.get_node_attributes(G,'seg')\n",
    "    out = list()\n",
    "    for w in result:\n",
    "        out.append(sorted(result[w]))  #formatting output\n",
    "    return out"
   ]
  },
  {
   "cell_type": "code",
   "execution_count": 77,
   "metadata": {},
   "outputs": [
    {
     "name": "stdout",
     "output_type": "stream",
     "text": [
      "[[0, 1, 4], [2, 3]]\n"
     ]
    }
   ],
   "source": [
    "#Example: \n",
    "G = nx.Graph()\n",
    "G.add_nodes_from(range(0,5)) #add nodes\n",
    "G.add_edges_from(nx.non_edges(G))\n",
    "print (agglom(G,2))"
   ]
  },
  {
   "cell_type": "code",
   "execution_count": null,
   "metadata": {},
   "outputs": [],
   "source": []
  }
 ],
 "metadata": {
  "kernelspec": {
   "display_name": "Python 3",
   "language": "python",
   "name": "python3"
  },
  "language_info": {
   "codemirror_mode": {
    "name": "ipython",
    "version": 3
   },
   "file_extension": ".py",
   "mimetype": "text/x-python",
   "name": "python",
   "nbconvert_exporter": "python",
   "pygments_lexer": "ipython3",
   "version": "3.6.5"
  }
 },
 "nbformat": 4,
 "nbformat_minor": 2
}
