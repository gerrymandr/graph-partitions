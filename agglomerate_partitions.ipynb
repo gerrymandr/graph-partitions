{
 "cells": [
  {
   "cell_type": "code",
   "execution_count": 209,
   "metadata": {},
   "outputs": [],
   "source": [
    "import networkx as nx\n",
    "import random as r\n",
    "import operator\n",
    "\n",
    "\n",
    "def weight_calc(num_edges):           ##calculates weight edges based on number of edges contracted together\n",
    "    return .7 ** num_edges ** 2     ##will cause rounding errors if numbers get too small (will who up as node not present error)\n",
    "\n",
    "\n",
    "#input graph G and number of desired districts k\n",
    "#outputs a k partition of G respresented as a list of lists\n",
    "def agglom(G,k):    \n",
    "    for n in (G.nodes()):  #initializes node attributes which track contractions\n",
    "        G.node[n]['seg'] = [n]\n",
    "    edges = {}\n",
    "    for ed in (list(set(G.edges()))):                         #initializes edge attributes which track \n",
    "        edges[ed] = 1                                         #edge contractions, which informs edge weighting\n",
    "    while len(G.nodes) > k and len(G.edges) > 0 :\n",
    "        weight_total = 0\n",
    "        for edge in edges:                           #calculates sum of edge weights (weights are calculated dynamically \n",
    "            weight_total += weight_calc(edges[edge]) #based on number of edges contracted together)\n",
    "        weight_total = r.uniform(0,weight_total)\n",
    "        for edge in edges:\n",
    "            weight_total -= weight_calc(edges[edge])    #random 'index' is chosen corresponding edge is found\n",
    "            if weight_total <= 0:                       #by subtracting edge weights until total reaches 0\n",
    "                e = edge\n",
    "                break\n",
    "        del edges[e[0],e[1]]\n",
    "        for new in G.neighbors(e[1]):            #This big loop is for updating the edges dictionary \n",
    "            if new != e[0]:                      #to keep track of overlapping edges\n",
    "                if new > e[1] :                  #It's conditioned to order edges least to greatest\n",
    "                    if (e[0],new) not in edges: edges[(e[0],new)] = 0\n",
    "                    edges[(e[0],new)] += edges[(e[1],new)]  \n",
    "                elif new < e[0]: \n",
    "                    if (new,e[0]) not in edges: edges[(new,e[0])] = 0\n",
    "                    edges[(new,e[0])] += edges[(new,e[1])]\n",
    "                else : \n",
    "                    if (e[0],new) not in edges: edges[(e[0],new)] = 0\n",
    "                    edges[(e[0],new)] += edges[(new,e[1])]\n",
    "                if (new,e[1]) in edges : del edges[(new,e[1])]\n",
    "                elif (e[1],new) in edges : del edges[(e[1],new)]    \n",
    "        G.node[e[0]]['seg'] += (G.node[e[1]]['seg'])      #recording node contraction\n",
    "        G = nx.contracted_edge(G, e, self_loops = False)  #contraction occurs\n",
    "    result = nx.get_node_attributes(G,'seg')\n",
    "    out = list()\n",
    "    for w in result:\n",
    "        out.append(sorted(result[w]))  #formatting output\n",
    "    return out"
   ]
  },
  {
   "cell_type": "code",
   "execution_count": 215,
   "metadata": {},
   "outputs": [
    {
     "name": "stdout",
     "output_type": "stream",
     "text": [
      "District 1: size =  46 \n",
      " [(0, 0), (0, 1), (0, 2), (0, 3), (0, 4), (0, 5), (0, 6), (0, 7), (0, 8), (0, 9), (1, 1), (1, 2), (1, 3), (1, 4), (1, 5), (1, 6), (1, 7), (1, 8), (1, 9), (1, 10), (1, 14), (2, 6), (2, 7), (2, 10), (2, 11), (2, 12), (2, 14), (2, 15), (2, 16), (2, 17), (3, 7), (3, 9), (3, 10), (3, 11), (3, 12), (3, 13), (3, 14), (3, 16), (4, 9), (4, 10), (4, 11), (4, 12), (4, 13), (4, 14), (5, 13), (5, 14)]\n",
      "District 2: size =  273 \n",
      " [(0, 10), (0, 11), (0, 12), (0, 13), (0, 14), (0, 15), (0, 16), (0, 17), (0, 18), (0, 19), (1, 0), (1, 11), (1, 12), (1, 13), (1, 15), (1, 16), (1, 17), (1, 18), (1, 19), (2, 0), (2, 1), (2, 2), (2, 3), (2, 4), (2, 5), (2, 8), (2, 9), (2, 13), (2, 18), (2, 19), (3, 0), (3, 1), (3, 2), (3, 3), (3, 4), (3, 5), (3, 6), (3, 8), (3, 15), (3, 17), (3, 18), (3, 19), (4, 0), (4, 1), (4, 2), (4, 3), (4, 5), (4, 6), (4, 7), (4, 8), (4, 15), (4, 16), (4, 17), (4, 18), (4, 19), (5, 0), (5, 1), (5, 5), (5, 7), (5, 8), (5, 9), (5, 10), (5, 11), (5, 12), (5, 15), (5, 16), (5, 17), (5, 18), (5, 19), (6, 0), (6, 1), (6, 2), (6, 7), (6, 8), (6, 9), (6, 10), (6, 11), (6, 12), (6, 13), (6, 14), (6, 15), (6, 16), (6, 17), (6, 18), (6, 19), (7, 0), (7, 1), (7, 2), (7, 3), (7, 4), (7, 6), (7, 7), (7, 8), (7, 9), (7, 10), (7, 11), (7, 12), (7, 13), (7, 14), (7, 15), (7, 16), (7, 17), (7, 18), (7, 19), (8, 0), (8, 1), (8, 2), (8, 3), (8, 4), (8, 6), (8, 7), (8, 8), (8, 9), (8, 10), (8, 11), (8, 12), (8, 13), (8, 14), (8, 15), (8, 16), (8, 17), (8, 18), (8, 19), (9, 0), (9, 1), (9, 2), (9, 3), (9, 4), (9, 8), (9, 9), (9, 10), (9, 11), (9, 12), (9, 13), (9, 14), (9, 15), (9, 16), (9, 17), (9, 18), (9, 19), (10, 0), (10, 1), (10, 2), (10, 3), (10, 10), (10, 11), (10, 12), (10, 13), (10, 14), (10, 15), (10, 16), (10, 17), (10, 18), (10, 19), (11, 0), (11, 1), (11, 2), (11, 3), (11, 4), (11, 5), (11, 8), (11, 9), (11, 10), (11, 11), (11, 12), (11, 13), (11, 15), (11, 16), (11, 17), (11, 18), (11, 19), (12, 0), (12, 1), (12, 2), (12, 3), (12, 4), (12, 5), (12, 9), (12, 16), (12, 17), (12, 18), (12, 19), (13, 0), (13, 1), (13, 4), (13, 12), (13, 16), (13, 17), (13, 18), (13, 19), (14, 0), (14, 6), (14, 7), (14, 9), (14, 10), (14, 12), (14, 18), (14, 19), (15, 6), (15, 7), (15, 9), (15, 10), (15, 11), (15, 12), (15, 16), (15, 17), (15, 18), (15, 19), (16, 6), (16, 7), (16, 8), (16, 9), (16, 10), (16, 11), (16, 12), (16, 16), (16, 17), (16, 18), (16, 19), (17, 0), (17, 1), (17, 5), (17, 6), (17, 7), (17, 8), (17, 9), (17, 10), (17, 11), (17, 12), (17, 13), (17, 14), (17, 15), (17, 16), (17, 17), (17, 18), (17, 19), (18, 0), (18, 1), (18, 5), (18, 6), (18, 7), (18, 8), (18, 9), (18, 10), (18, 11), (18, 12), (18, 13), (18, 14), (18, 15), (18, 16), (18, 17), (18, 18), (18, 19), (19, 0), (19, 1), (19, 2), (19, 3), (19, 4), (19, 5), (19, 6), (19, 7), (19, 8), (19, 9), (19, 10), (19, 11), (19, 12), (19, 13), (19, 14), (19, 15), (19, 16), (19, 17), (19, 18), (19, 19)]\n",
      "District 3: size =  81 \n",
      " [(4, 4), (5, 2), (5, 3), (5, 4), (5, 6), (6, 3), (6, 4), (6, 5), (6, 6), (7, 5), (8, 5), (9, 5), (9, 6), (9, 7), (10, 4), (10, 5), (10, 6), (10, 7), (10, 8), (10, 9), (11, 6), (11, 7), (11, 14), (12, 6), (12, 7), (12, 8), (12, 10), (12, 11), (12, 12), (12, 13), (12, 14), (12, 15), (13, 2), (13, 3), (13, 5), (13, 6), (13, 7), (13, 8), (13, 9), (13, 10), (13, 11), (13, 13), (13, 14), (13, 15), (14, 1), (14, 2), (14, 3), (14, 4), (14, 5), (14, 8), (14, 11), (14, 13), (14, 14), (14, 15), (14, 16), (14, 17), (15, 0), (15, 1), (15, 2), (15, 3), (15, 4), (15, 5), (15, 8), (15, 13), (15, 14), (15, 15), (16, 0), (16, 1), (16, 2), (16, 3), (16, 4), (16, 5), (16, 13), (16, 14), (16, 15), (17, 2), (17, 3), (17, 4), (18, 2), (18, 3), (18, 4)]\n"
     ]
    }
   ],
   "source": [
    "#Example: \n",
    "G = nx.grid_graph([20,20])\n",
    "result = agglom(G,3)\n",
    "print (\"District 1: size = \", len(result[0]), \"\\n\", result[0])\n",
    "print (\"District 2: size = \", len(result[1]), \"\\n\", result[1])\n",
    "print (\"District 3: size = \", len(result[2]), \"\\n\", result[2])"
   ]
  },
  {
   "cell_type": "code",
   "execution_count": null,
   "metadata": {},
   "outputs": [],
   "source": []
  }
 ],
 "metadata": {
  "kernelspec": {
   "display_name": "Python 3",
   "language": "python",
   "name": "python3"
  },
  "language_info": {
   "codemirror_mode": {
    "name": "ipython",
    "version": 3
   },
   "file_extension": ".py",
   "mimetype": "text/x-python",
   "name": "python",
   "nbconvert_exporter": "python",
   "pygments_lexer": "ipython3",
   "version": "3.6.5"
  }
 },
 "nbformat": 4,
 "nbformat_minor": 2
}
